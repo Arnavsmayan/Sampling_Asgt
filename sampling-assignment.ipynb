{
 "cells": [
  {
   "cell_type": "code",
   "execution_count": 14,
   "metadata": {
    "_cell_guid": "b1076dfc-b9ad-4769-8c92-a6c4dae69d19",
    "_uuid": "8f2839f25d086af736a60e9eeb907d3b93b6e0e5",
    "execution": {
     "iopub.execute_input": "2025-01-26T06:55:19.836984Z",
     "iopub.status.busy": "2025-01-26T06:55:19.836582Z",
     "iopub.status.idle": "2025-01-26T06:55:20.392916Z",
     "shell.execute_reply": "2025-01-26T06:55:20.392013Z",
     "shell.execute_reply.started": "2025-01-26T06:55:19.836951Z"
    },
    "trusted": true
   },
   "outputs": [
    {
     "name": "stdout",
     "output_type": "stream",
     "text": [
      "Random Forest: 0.9902\n",
      "Logistic Regression: 0.9020\n",
      "Decision Tree: 0.9706\n",
      "KNN: 0.8170\n",
      "SVM: 0.6569\n"
     ]
    }
   ],
   "source": [
    "import pandas as pd\n",
    "from sklearn.model_selection import train_test_split\n",
    "from sklearn.ensemble import RandomForestClassifier\n",
    "from sklearn.linear_model import LogisticRegression\n",
    "from sklearn.tree import DecisionTreeClassifier\n",
    "from sklearn.neighbors import KNeighborsClassifier\n",
    "from sklearn.svm import SVC\n",
    "from sklearn.metrics import accuracy_score\n",
    "from imblearn.over_sampling import SMOTE\n",
    "import random\n",
    "data = pd.read_csv(\"/kaggle/input/sampling-data/Creditcard_data.csv\")\n",
    "X = data.drop(\"Class\", axis=1)\n",
    "y = data[\"Class\"]\n",
    "smote = SMOTE(random_state=42)\n",
    "X_res, y_res = smote.fit_resample(X, y)\n",
    "X_train, X_test, y_train, y_test = train_test_split(X_res, y_res, test_size=0.2, random_state=42)\n",
    "sample_size = int(0.5 * len(X_train))\n",
    "random_indices = random.sample(range(len(X_train)), sample_size)\n",
    "new_X_train = X_train.iloc[random_indices]\n",
    "new_y_train = y_train.iloc[random_indices]\n",
    "models = {\n",
    "    \"Random Forest\": RandomForestClassifier(random_state=42),\n",
    "    \"Logistic Regression\": LogisticRegression(max_iter=1000, random_state=42),\n",
    "    \"Decision Tree\": DecisionTreeClassifier(random_state=42),\n",
    "    \"KNN\": KNeighborsClassifier(),\n",
    "    \"SVM\": SVC()\n",
    "}\n",
    "accuracies = {}\n",
    "for name, model in models.items():\n",
    "    model.fit(new_X_train, new_y_train)\n",
    "    y_pred = model.predict(X_test)\n",
    "    accuracy = accuracy_score(y_test, y_pred)\n",
    "    accuracies[name] = accuracy\n",
    "for name, accuracy in accuracies.items():\n",
    "    print(f\"{name}: {accuracy:.4f}\")\n"
   ]
  },
  {
   "cell_type": "code",
   "execution_count": 11,
   "metadata": {
    "execution": {
     "iopub.execute_input": "2025-01-26T06:53:22.875876Z",
     "iopub.status.busy": "2025-01-26T06:53:22.875498Z",
     "iopub.status.idle": "2025-01-26T06:53:23.495579Z",
     "shell.execute_reply": "2025-01-26T06:53:23.494499Z",
     "shell.execute_reply.started": "2025-01-26T06:53:22.875846Z"
    },
    "trusted": true
   },
   "outputs": [
    {
     "name": "stdout",
     "output_type": "stream",
     "text": [
      "Random Forest: 0.9935\n",
      "Logistic Regression: 0.9052\n",
      "Decision Tree: 0.9641\n",
      "KNN: 0.8268\n",
      "SVM: 0.6536\n"
     ]
    }
   ],
   "source": [
    "import pandas as pd\n",
    "from sklearn.model_selection import train_test_split, StratifiedShuffleSplit\n",
    "from sklearn.ensemble import RandomForestClassifier\n",
    "from sklearn.linear_model import LogisticRegression\n",
    "from sklearn.tree import DecisionTreeClassifier\n",
    "from sklearn.neighbors import KNeighborsClassifier\n",
    "from sklearn.svm import SVC\n",
    "from sklearn.metrics import accuracy_score\n",
    "from imblearn.over_sampling import SMOTE\n",
    "data = pd.read_csv(\"/kaggle/input/sampling-data/Creditcard_data.csv\")\n",
    "X = data.drop(\"Class\", axis=1)\n",
    "y = data[\"Class\"]\n",
    "smote = SMOTE(random_state=42)\n",
    "X_res, y_res = smote.fit_resample(X, y)\n",
    "X_train, X_test, y_train, y_test = train_test_split(X_res, y_res, test_size=0.2, random_state=42)\n",
    "splitted = StratifiedShuffleSplit(n_splits=1, test_size=0.5, random_state=42)\n",
    "for train_index, _ in splitted.split(X_train, y_train):\n",
    "    new_X_train = X_train.iloc[train_index]\n",
    "    new_y_train = y_train.iloc[train_index]\n",
    "models = {\n",
    "    \"Random Forest\": RandomForestClassifier(random_state=42),\n",
    "    \"Logistic Regression\": LogisticRegression(max_iter=1000, random_state=42),\n",
    "    \"Decision Tree\": DecisionTreeClassifier(random_state=42),\n",
    "    \"KNN\": KNeighborsClassifier(),\n",
    "    \"SVM\": SVC()\n",
    "}\n",
    "accuracies = {}\n",
    "for name, model in models.items():\n",
    "    model.fit(new_X_train, new_y_train)\n",
    "    y_pred = model.predict(X_test)\n",
    "    accuracy = accuracy_score(y_test, y_pred)\n",
    "    accuracies[name] = accuracy\n",
    "for name, accuracy in accuracies.items():\n",
    "    print(f\"{name}: {accuracy:.4f}\")\n"
   ]
  },
  {
   "cell_type": "code",
   "execution_count": 12,
   "metadata": {
    "execution": {
     "iopub.execute_input": "2025-01-26T06:54:11.222469Z",
     "iopub.status.busy": "2025-01-26T06:54:11.222130Z",
     "iopub.status.idle": "2025-01-26T06:54:11.797606Z",
     "shell.execute_reply": "2025-01-26T06:54:11.796639Z",
     "shell.execute_reply.started": "2025-01-26T06:54:11.222445Z"
    },
    "trusted": true
   },
   "outputs": [
    {
     "name": "stdout",
     "output_type": "stream",
     "text": [
      "Random Forest: 0.9771\n",
      "Logistic Regression: 0.9118\n",
      "Decision Tree: 0.9542\n",
      "KNN: 0.7810\n",
      "SVM: 0.6667\n"
     ]
    }
   ],
   "source": [
    "import pandas as pd\n",
    "from sklearn.model_selection import train_test_split\n",
    "from sklearn.ensemble import RandomForestClassifier\n",
    "from sklearn.linear_model import LogisticRegression\n",
    "from sklearn.tree import DecisionTreeClassifier\n",
    "from sklearn.neighbors import KNeighborsClassifier\n",
    "from sklearn.svm import SVC\n",
    "from sklearn.metrics import accuracy_score\n",
    "from imblearn.over_sampling import SMOTE\n",
    "import numpy as np\n",
    "data = pd.read_csv(\"/kaggle/input/sampling-data/Creditcard_data.csv\")\n",
    "X = data.drop(\"Class\", axis=1)\n",
    "y = data[\"Class\"]\n",
    "smote = SMOTE(random_state=42)\n",
    "X_res, y_res = smote.fit_resample(X, y)\n",
    "X_train, X_test, y_train, y_test = train_test_split(X_res, y_res, test_size=0.2, random_state=42)\n",
    "num_clusters = 5\n",
    "clusters = np.array_split(X_train.index, num_clusters)\n",
    "clusters_taken = np.random.choice(range(num_clusters), size=2, replace=False)\n",
    "row_numbers = np.concatenate([clusters[i] for i in clusters_taken])\n",
    "new_X = X_train.loc[row_numbers]\n",
    "new_y = y_train.loc[row_numbers]\n",
    "models = {\n",
    "    \"Random Forest\": RandomForestClassifier(random_state=42),\n",
    "    \"Logistic Regression\": LogisticRegression(max_iter=1000, random_state=42),\n",
    "    \"Decision Tree\": DecisionTreeClassifier(random_state=42),\n",
    "    \"KNN\": KNeighborsClassifier(),\n",
    "    \"SVM\": SVC()\n",
    "}\n",
    "accuracies = {}\n",
    "for name, model in models.items():\n",
    "    model.fit(new_X, new_y)\n",
    "    y_pred = model.predict(X_test)\n",
    "    accuracy = accuracy_score(y_test, y_pred)\n",
    "    accuracies[name] = accuracy\n",
    "for name, accuracy in accuracies.items():\n",
    "    print(f\"{name}: {accuracy:.4f}\")"
   ]
  },
  {
   "cell_type": "code",
   "execution_count": 15,
   "metadata": {
    "execution": {
     "iopub.execute_input": "2025-01-26T06:55:59.274693Z",
     "iopub.status.busy": "2025-01-26T06:55:59.274361Z",
     "iopub.status.idle": "2025-01-26T06:55:59.709405Z",
     "shell.execute_reply": "2025-01-26T06:55:59.708328Z",
     "shell.execute_reply.started": "2025-01-26T06:55:59.274668Z"
    },
    "trusted": true
   },
   "outputs": [
    {
     "name": "stdout",
     "output_type": "stream",
     "text": [
      "Random Forest: 0.9771\n",
      "Logistic Regression: 0.8725\n",
      "Decision Tree: 0.9216\n",
      "KNN: 0.7059\n",
      "SVM: 0.6601\n"
     ]
    }
   ],
   "source": [
    "import pandas as pd\n",
    "from sklearn.model_selection import train_test_split\n",
    "from sklearn.ensemble import RandomForestClassifier\n",
    "from sklearn.linear_model import LogisticRegression\n",
    "from sklearn.tree import DecisionTreeClassifier\n",
    "from sklearn.neighbors import KNeighborsClassifier\n",
    "from sklearn.svm import SVC\n",
    "from sklearn.metrics import accuracy_score\n",
    "from imblearn.over_sampling import SMOTE\n",
    "import numpy as np\n",
    "data = pd.read_csv(\"/kaggle/input/sampling-data/Creditcard_data.csv\")\n",
    "X = data.drop(\"Class\", axis=1)\n",
    "y = data[\"Class\"]\n",
    "smote = SMOTE(random_state=42)\n",
    "X_res, y_res = smote.fit_resample(X, y)\n",
    "X_train, X_test, y_train, y_test = train_test_split(X_res, y_res, test_size=0.2, random_state=42)\n",
    "n = 5\n",
    "indices = np.arange(0, len(X_train), n)\n",
    "new_X = X_train.iloc[indices]\n",
    "new_y = y_train.iloc[indices]\n",
    "models = {\n",
    "    \"Random Forest\": RandomForestClassifier(random_state=42),\n",
    "    \"Logistic Regression\": LogisticRegression(max_iter=1000, random_state=42),\n",
    "    \"Decision Tree\": DecisionTreeClassifier(random_state=42),\n",
    "    \"KNN\": KNeighborsClassifier(),\n",
    "    \"SVM\": SVC()\n",
    "}\n",
    "accuracies = {}\n",
    "for name, model in models.items():\n",
    "    model.fit(new_X, new_y)\n",
    "    y_pred = model.predict(X_test)\n",
    "    accuracy = accuracy_score(y_test, y_pred)\n",
    "    accuracies[name] = accuracy\n",
    "for name, accuracy in accuracies.items():\n",
    "    print(f\"{name}: {accuracy:.4f}\")\n"
   ]
  },
  {
   "cell_type": "code",
   "execution_count": 16,
   "metadata": {
    "execution": {
     "iopub.execute_input": "2025-01-26T06:56:47.199660Z",
     "iopub.status.busy": "2025-01-26T06:56:47.199298Z",
     "iopub.status.idle": "2025-01-26T06:56:48.137669Z",
     "shell.execute_reply": "2025-01-26T06:56:48.136566Z",
     "shell.execute_reply.started": "2025-01-26T06:56:47.199629Z"
    },
    "trusted": true
   },
   "outputs": [
    {
     "name": "stdout",
     "output_type": "stream",
     "text": [
      "Random Forest: 0.9935\n",
      "Logistic Regression: 0.9183\n",
      "Decision Tree: 0.9608\n",
      "KNN: 0.8333\n",
      "SVM: 0.6830\n"
     ]
    }
   ],
   "source": [
    "import pandas as pd\n",
    "from sklearn.model_selection import train_test_split\n",
    "from sklearn.ensemble import RandomForestClassifier\n",
    "from sklearn.linear_model import LogisticRegression\n",
    "from sklearn.tree import DecisionTreeClassifier\n",
    "from sklearn.neighbors import KNeighborsClassifier\n",
    "from sklearn.svm import SVC\n",
    "from sklearn.metrics import accuracy_score\n",
    "from imblearn.over_sampling import SMOTE\n",
    "import numpy as np\n",
    "from sklearn.utils import resample\n",
    "data = pd.read_csv(\"/kaggle/input/sampling-data/Creditcard_data.csv\")\n",
    "X = data.drop(\"Class\", axis=1)\n",
    "y = data[\"Class\"]\n",
    "smote = SMOTE(random_state=42)\n",
    "X_res, y_res = smote.fit_resample(X, y)\n",
    "X_train, X_test, y_train, y_test = train_test_split(X_res, y_res, test_size=0.2, random_state=42)\n",
    "X_train_sampled, y_train_sampled = resample(X_train, y_train, replace=True, random_state=42)\n",
    "models = {\n",
    "    \"Random Forest\": RandomForestClassifier(random_state=42),\n",
    "    \"Logistic Regression\": LogisticRegression(max_iter=1000, random_state=42),\n",
    "    \"Decision Tree\": DecisionTreeClassifier(random_state=42),\n",
    "    \"KNN\": KNeighborsClassifier(),\n",
    "    \"SVM\": SVC()\n",
    "}\n",
    "accuracies = {}\n",
    "for name, model in models.items():\n",
    "    model.fit(X_train_sampled, y_train_sampled)\n",
    "    y_pred = model.predict(X_test)\n",
    "    accuracy = accuracy_score(y_test, y_pred)\n",
    "    accuracies[name] = accuracy\n",
    "for name, accuracy in accuracies.items():\n",
    "    print(f\"{name}: {accuracy:.4f}\")\n"
   ]
  }
 ],
 "metadata": {
  "kaggle": {
   "accelerator": "none",
   "dataSources": [
    {
     "datasetId": 6544288,
     "sourceId": 10575425,
     "sourceType": "datasetVersion"
    },
    {
     "datasetId": 6549260,
     "sourceId": 10583017,
     "sourceType": "datasetVersion"
    }
   ],
   "dockerImageVersionId": 30839,
   "isGpuEnabled": false,
   "isInternetEnabled": true,
   "language": "python",
   "sourceType": "notebook"
  },
  "kernelspec": {
   "display_name": "Python 3",
   "language": "python",
   "name": "python3"
  },
  "language_info": {
   "codemirror_mode": {
    "name": "ipython",
    "version": 3
   },
   "file_extension": ".py",
   "mimetype": "text/x-python",
   "name": "python",
   "nbconvert_exporter": "python",
   "pygments_lexer": "ipython3",
   "version": "3.10.12"
  }
 },
 "nbformat": 4,
 "nbformat_minor": 4
}
